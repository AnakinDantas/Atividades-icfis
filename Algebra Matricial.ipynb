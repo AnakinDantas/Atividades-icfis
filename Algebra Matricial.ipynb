{
 "cells": [
  {
   "cell_type": "markdown",
   "metadata": {},
   "source": [
    "# Nome: Anakin Dantas Rodrigues Matrícula: 2023033173 \n",
    "# icfis - novembro de 2023"
   ]
  },
  {
   "cell_type": "markdown",
   "metadata": {},
   "source": [
    "### Atividade \n",
    "\n",
    "Encontre as correntes no circuito seguinte, considere as direções iniciais indicadas na figura. \n",
    "\n",
    "<img src=\"Figs/dcp8.gif\" width=70% >"
   ]
  },
  {
   "cell_type": "markdown",
   "metadata": {},
   "source": [
    "Primeria equação:\n",
    "\n",
    "$$\n",
    "I_1 + I_2 - I_3 = 0\n",
    "$$\n",
    "\n",
    "Segunda e terceira equação (voltagem negativa): \n",
    "$$\n",
    "10I_1 - 10 + 40I_3 = 0 \\\\\n",
    "20I_2 - 20 + 40I_3 = 0\n",
    "$$"
   ]
  },
  {
   "cell_type": "code",
   "execution_count": 1,
   "metadata": {
    "collapsed": true
   },
   "outputs": [],
   "source": [
    "import numpy as np"
   ]
  },
  {
   "cell_type": "code",
   "execution_count": 2,
   "metadata": {},
   "outputs": [
    {
     "name": "stdout",
     "output_type": "stream",
     "text": [
      "as correntes encontradas sao\n",
      "I_1 = -0.1428571428571427\n",
      "I_2 = 0.42857142857142866\n",
      "I_3 = 0.2857142857142857\n"
     ]
    }
   ],
   "source": [
    "# Solução do sistema de equações encontrado\n",
    "# no circuito anterior\n",
    "\n",
    "A = np.array([[1.,1.,-1.],[10.,0.,40.],[0.,20.,40.]])\n",
    "V = np.array([0.,10.,20.])\n",
    "I = np.linalg.solve(A,V)\n",
    "\n",
    "print('as correntes encontradas sao')\n",
    "print('I_1 =', I[0])\n",
    "print('I_2 =', I[1])\n",
    "print('I_3 =', I[2])"
   ]
  },
  {
   "cell_type": "markdown",
   "metadata": {},
   "source": [
    "### Atividade \n",
    "\n",
    "Utilize decomposição LU para resolver o sistema de equações derivado para resolver o  problema de mecânica apresentado na figura seguinte, \n",
    "\n",
    "<img src=\"Figs/Image165.gif\" width=70% >\n",
    "\n",
    "Escreva as equações que mantém o sistema estatico, e encontre as forçãs $F_1$, $F_2$ e $F_3$.\n"
   ]
  },
  {
   "cell_type": "markdown",
   "metadata": {},
   "source": [
    "Temos as decomposições das forças em x e y e os torques:\n",
    "$$\n",
    "\\sum F_x = 0 \\\\\n",
    "\\sum F_y = 0 \\\\\n",
    "\\sum \\tau = 0\n",
    "$$"
   ]
  },
  {
   "cell_type": "markdown",
   "metadata": {},
   "source": [
    "Para $\\sum F_x = 0$ :"
   ]
  },
  {
   "cell_type": "markdown",
   "metadata": {},
   "source": [
    "$$\n",
    "F_1.cos(69.3°) + F_2.cos(71.1°) + F_3.cos(56.6°) = 0\n",
    "$$"
   ]
  },
  {
   "cell_type": "markdown",
   "metadata": {},
   "source": [
    "Para $\\sum F_y = 0$ :\n",
    "$$\n",
    "926 + F_1.sen(69.3°) + F_2.sen(71.1°) + F_3.sen(56.6°) = 0 \\\\\n",
    "F_1.sen(69.3°) + F_2.sen(71.1°) + F_3.sen(56.6°) = -926\n",
    "$$"
   ]
  },
  {
   "cell_type": "markdown",
   "metadata": {},
   "source": [
    "Para $\\sum \\tau$ = 0 :"
   ]
  },
  {
   "cell_type": "markdown",
   "metadata": {},
   "source": [
    "$$\n",
    "F1.7,80[m].sen(69.3°) + F2.1,50[m].sen(71.1°) + F3.2,60[m].sen(56.6°) + 926.7,80[m].sen(90°) = 0 \\\\\n",
    "F1.7,80[m].sen(69.3°) + F2.1,50[m].sen(71.1°) + F3.2,60[m].sen(56.6°) = - 7222,8\n",
    "$$"
   ]
  },
  {
   "cell_type": "code",
   "execution_count": 3,
   "metadata": {
    "collapsed": true
   },
   "outputs": [],
   "source": [
    "import numpy as np\n",
    "import scipy.linalg"
   ]
  },
  {
   "cell_type": "code",
   "execution_count": 4,
   "metadata": {},
   "outputs": [
    {
     "name": "stdout",
     "output_type": "stream",
     "text": [
      "Senos:  F1: 0.9354442140597646 F2: 0.94608553109707 F3: 0.8348480963210285\n",
      "Cossenos:  F1: 0.35347435887502404 F2: 0.3239169150396052 F3: 0.5504803866343966\n"
     ]
    }
   ],
   "source": [
    "senF1 =  np.sin(69.3*0.0174533)\n",
    "senF2 =  np.sin(71.1*0.0174533)\n",
    "senF3 =  np.sin(56.6*0.0174533)\n",
    "\n",
    "cosF1 =  np.cos(69.3*0.0174533)\n",
    "cosF2 =  np.cos(71.1*0.0174533)\n",
    "cosF3 =  np.cos(56.6*0.0174533)\n",
    "print(\"Senos: \", \"F1:\", senF1, \"F2:\",senF2,\"F3:\", senF3)\n",
    "print(\"Cossenos: \", \"F1:\", cosF1, \"F2:\", cosF2, \"F3:\", cosF3)"
   ]
  },
  {
   "cell_type": "code",
   "execution_count": null,
   "metadata": {
    "collapsed": true
   },
   "outputs": [],
   "source": [
    "# Solução do sistema de equações encontrado\n",
    "\n",
    "A = np.array([[cosF1, cosF2, cosF3],[senF1, senF2,senF3],[(7.8*senF1),(1.5*senF2),(2.6*senF3)]])\n",
    "P, L, U = scipy.linalg.lu(A)"
   ]
  },
  {
   "cell_type": "code",
   "execution_count": 1,
   "metadata": {},
   "outputs": [
    {
     "ename": "NameError",
     "evalue": "name 'np' is not defined",
     "output_type": "error",
     "traceback": [
      "\u001b[0;31m---------------------------------------------------------------------------\u001b[0m",
      "\u001b[0;31mNameError\u001b[0m                                 Traceback (most recent call last)",
      "\u001b[0;32m<ipython-input-1-80546dced6d8>\u001b[0m in \u001b[0;36m<module>\u001b[0;34m()\u001b[0m\n\u001b[1;32m      1\u001b[0m \u001b[0mn\u001b[0m\u001b[0;34m=\u001b[0m\u001b[0;36m3\u001b[0m\u001b[0;34m\u001b[0m\u001b[0m\n\u001b[0;32m----> 2\u001b[0;31m \u001b[0mI\u001b[0m \u001b[0;34m=\u001b[0m \u001b[0mnp\u001b[0m\u001b[0;34m.\u001b[0m\u001b[0mzeros_like\u001b[0m\u001b[0;34m(\u001b[0m\u001b[0mA\u001b[0m\u001b[0;34m)\u001b[0m\u001b[0;34m\u001b[0m\u001b[0m\n\u001b[0m\u001b[1;32m      3\u001b[0m \u001b[0;32mfor\u001b[0m \u001b[0mi\u001b[0m \u001b[0;32min\u001b[0m \u001b[0mrange\u001b[0m \u001b[0;34m(\u001b[0m\u001b[0mn\u001b[0m\u001b[0;34m)\u001b[0m\u001b[0;34m:\u001b[0m\u001b[0;34m\u001b[0m\u001b[0m\n\u001b[1;32m      4\u001b[0m     \u001b[0mI\u001b[0m\u001b[0;34m[\u001b[0m\u001b[0mi\u001b[0m\u001b[0;34m,\u001b[0m\u001b[0mi\u001b[0m\u001b[0;34m]\u001b[0m \u001b[0;34m=\u001b[0m \u001b[0;36m1.\u001b[0m\u001b[0;34m\u001b[0m\u001b[0m\n",
      "\u001b[0;31mNameError\u001b[0m: name 'np' is not defined"
     ]
    }
   ],
   "source": [
    "n=3\n",
    "I = np.zeros_like(A)\n",
    "for i in range (n):\n",
    "    I[i,i] = 1."
   ]
  },
  {
   "cell_type": "code",
   "execution_count": 46,
   "metadata": {
    "collapsed": true
   },
   "outputs": [],
   "source": [
    "LU = scipy.linalg.lu_factor(A)\n",
    "Ainv = scipy.linalg.lu_solve(LU, I)"
   ]
  },
  {
   "cell_type": "code",
   "execution_count": 47,
   "metadata": {},
   "outputs": [
    {
     "data": {
      "text/plain": [
       "array([[ 1.00000000e+00,  0.00000000e+00,  1.38777878e-17],\n",
       "       [-4.44089210e-16,  1.00000000e+00,  2.42861287e-17],\n",
       "       [ 0.00000000e+00,  0.00000000e+00,  1.00000000e+00]])"
      ]
     },
     "execution_count": 47,
     "metadata": {},
     "output_type": "execute_result"
    }
   ],
   "source": [
    "np.matmul(A,Ainv)"
   ]
  },
  {
   "cell_type": "code",
   "execution_count": 51,
   "metadata": {},
   "outputs": [
    {
     "data": {
      "text/plain": [
       "(array([[7.29646487, 1.4191283 , 2.17060505],\n",
       "        [0.12820513, 0.76414601, 0.5565654 ],\n",
       "        [0.04844461, 0.33392546, 0.25947493]]), array([2, 1, 2], dtype=int32))"
      ]
     },
     "execution_count": 51,
     "metadata": {},
     "output_type": "execute_result"
    }
   ],
   "source": [
    "LU"
   ]
  },
  {
   "cell_type": "code",
   "execution_count": 53,
   "metadata": {},
   "outputs": [
    {
     "data": {
      "text/plain": [
       "array([[-0.60054604, -0.05398878,  0.17306752],\n",
       "       [-2.80701321,  2.2459836 , -0.15196197],\n",
       "       [ 3.85393692, -1.28692765, -0.02171173]])"
      ]
     },
     "execution_count": 53,
     "metadata": {},
     "output_type": "execute_result"
    }
   ],
   "source": [
    "Ainv"
   ]
  },
  {
   "cell_type": "code",
   "execution_count": 1,
   "metadata": {},
   "outputs": [
    {
     "ename": "NameError",
     "evalue": "name 'np' is not defined",
     "output_type": "error",
     "traceback": [
      "\u001b[0;31m---------------------------------------------------------------------------\u001b[0m",
      "\u001b[0;31mNameError\u001b[0m                                 Traceback (most recent call last)",
      "\u001b[0;32m<ipython-input-1-21eabb19f361>\u001b[0m in \u001b[0;36m<module>\u001b[0;34m()\u001b[0m\n\u001b[0;32m----> 1\u001b[0;31m \u001b[0mA1\u001b[0m \u001b[0;34m=\u001b[0m \u001b[0mnp\u001b[0m\u001b[0;34m.\u001b[0m\u001b[0marray\u001b[0m\u001b[0;34m(\u001b[0m\u001b[0;34m[\u001b[0m\u001b[0;34m-\u001b[0m\u001b[0;36m0.601\u001b[0m\u001b[0;34m,\u001b[0m\u001b[0;34m-\u001b[0m\u001b[0;36m0.054\u001b[0m\u001b[0;34m,\u001b[0m\u001b[0;36m0.173\u001b[0m\u001b[0;34m]\u001b[0m\u001b[0;34m)\u001b[0m\u001b[0;34m\u001b[0m\u001b[0m\n\u001b[0m\u001b[1;32m      2\u001b[0m \u001b[0;34m\u001b[0m\u001b[0m\n\u001b[1;32m      3\u001b[0m \u001b[0;31m# Função para multiplicar duas matrizes\u001b[0m\u001b[0;34m\u001b[0m\u001b[0;34m\u001b[0m\u001b[0m\n\u001b[1;32m      4\u001b[0m \u001b[0;34m\u001b[0m\u001b[0m\n\u001b[1;32m      5\u001b[0m \u001b[0;32mdef\u001b[0m \u001b[0mmult_mat\u001b[0m\u001b[0;34m(\u001b[0m\u001b[0mLU\u001b[0m\u001b[0;34m,\u001b[0m\u001b[0mA1\u001b[0m\u001b[0;34m)\u001b[0m\u001b[0;34m:\u001b[0m\u001b[0;34m\u001b[0m\u001b[0m\n",
      "\u001b[0;31mNameError\u001b[0m: name 'np' is not defined"
     ]
    }
   ],
   "source": [
    "A1 = np.array([-0.601,-2.807,3.854])\n",
    "\n",
    "# Função para multiplicar duas matrizes\n",
    "\n",
    "def mult_mat(LU,A1):\n",
    "    # extraimos a dimensão, m x n, da matriz A\n",
    "    m, n = LU.shape\n",
    "    # e o numero de colunas da matriz B\n",
    "    p = A1.shape[1]\n",
    "\n",
    "    C1 = np.zeros((m,p))\n",
    "\n",
    "    for i in range(0,m):\n",
    "        for j in range(0,p):\n",
    "            for k in range(0,n):\n",
    "                F1[i,j] += LU[i,k]*A1[k,j] \n",
    "    return C1\n",
    "\n",
    "print(\"F1 = \", C1[0])"
   ]
  },
  {
   "cell_type": "code",
   "execution_count": null,
   "metadata": {
    "collapsed": true
   },
   "outputs": [],
   "source": [
    "A2 = np.array([-0.054,2.246,-1.287])\n",
    "\n",
    "# Função para multiplicar duas matrizes\n",
    "\n",
    "def mult_mat(LU,A2):\n",
    "    # extraimos a dimensão, m x n, da matriz A\n",
    "    m, n = LU.shape\n",
    "    # e o numero de colunas da matriz B\n",
    "    p = A2.shape[1]\n",
    "\n",
    "    C2 = np.zeros((m,p))\n",
    "\n",
    "    for i in range(0,m):\n",
    "        for j in range(0,p):\n",
    "            for k in range(0,n):\n",
    "                C2[i,j] += LU[i,k]*A2[k,j] \n",
    "    return C2\n",
    "\n",
    "print(\"F1 = \", C2[1])"
   ]
  },
  {
   "cell_type": "code",
   "execution_count": null,
   "metadata": {
    "collapsed": true
   },
   "outputs": [],
   "source": [
    "A3 = np.array([0.173,-0.152,-0.022])\n",
    "\n",
    "# Função para multiplicar duas matrizes\n",
    "\n",
    "def mult_mat(LU,A3):\n",
    "    # extraimos a dimensão, m x n, da matriz A\n",
    "    m, n = LU.shape\n",
    "    # e o numero de colunas da matriz B\n",
    "    p = A3.shape[1]\n",
    "\n",
    "    C3 = np.zeros((m,p))\n",
    "\n",
    "    for i in range(0,m):\n",
    "        for j in range(0,p):\n",
    "            for k in range(0,n):\n",
    "                C3[i,j] += LU[i,k]*A3[k,j] \n",
    "    return C3\n",
    "\n",
    "print(\"F3 = \", C3[-1])"
   ]
  }
 ],
 "metadata": {
  "kernelspec": {
   "display_name": "Python 3",
   "language": "python",
   "name": "python3"
  },
  "language_info": {
   "codemirror_mode": {
    "name": "ipython",
    "version": 3
   },
   "file_extension": ".py",
   "mimetype": "text/x-python",
   "name": "python",
   "nbconvert_exporter": "python",
   "pygments_lexer": "ipython3",
   "version": "3.6.1"
  }
 },
 "nbformat": 4,
 "nbformat_minor": 2
}
